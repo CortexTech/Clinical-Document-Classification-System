{
 "cells": [
  {
   "cell_type": "code",
   "execution_count": 10,
   "id": "e10d86a6",
   "metadata": {},
   "outputs": [],
   "source": [
    "import pandas as pd\n",
    "import matplotlib.pyplot as plt\n",
    "import seaborn as sns\n",
    "from wordcloud import WordCloud\n",
    "from sklearn.feature_extraction.text import TfidfVectorizer\n",
    "from scipy import sparse\n",
    "import joblib"
   ]
  },
  {
   "cell_type": "code",
   "execution_count": 11,
   "id": "3238d449",
   "metadata": {},
   "outputs": [],
   "source": [
    "\n",
    "\n",
    "train_df = pd.read_csv('medical_cases_train.csv') #load dataset\n",
    "train_df = pd.read_csv('medical_cases_train.csv') #load dataset\n",
    "train_df = pd.read_csv('medical_cases_train.csv') #load dataset\n",
    "\n"
   ]
  },
  {
   "cell_type": "code",
   "execution_count": null,
   "id": "eaaca02b",
   "metadata": {},
   "outputs": [],
   "source": []
  },
  {
   "cell_type": "markdown",
   "id": "0bb74181",
   "metadata": {},
   "source": [
    "The above histogram compares the length of descriptions vs transcriptions across the dataset by overlapping on top of each other."
   ]
  },
  {
   "cell_type": "code",
   "execution_count": null,
   "id": "9153498b",
   "metadata": {},
   "outputs": [],
   "source": []
  },
  {
   "cell_type": "markdown",
   "id": "ad73f2d7",
   "metadata": {},
   "source": [
    "The above histogram compares the length of descriptions vs transcriptions across the dataset by depicting them side by side."
   ]
  },
  {
   "cell_type": "code",
   "execution_count": null,
   "id": "b8de8993",
   "metadata": {},
   "outputs": [],
   "source": []
  },
  {
   "cell_type": "markdown",
   "id": "78fefaf4",
   "metadata": {},
   "source": [
    "The above code shows the most used text larger and least used text smaller"
   ]
  },
  {
   "cell_type": "code",
   "execution_count": null,
   "id": "fda08456",
   "metadata": {},
   "outputs": [],
   "source": []
  },
  {
   "cell_type": "code",
   "execution_count": null,
   "id": "66b3a54b",
   "metadata": {},
   "outputs": [],
   "source": []
  },
  {
   "cell_type": "markdown",
   "id": "ebaa73da",
   "metadata": {},
   "source": [
    "Visualized the distribution of the 13 classes in the medical_specialty target variable to identify any class imbalance."
   ]
  }
 ],
 "metadata": {
  "kernelspec": {
   "display_name": "Python 3",
   "language": "python",
   "name": "python3"
  },
  "language_info": {
   "codemirror_mode": {
    "name": "ipython",
    "version": 3
   },
   "file_extension": ".py",
   "mimetype": "text/x-python",
   "name": "python",
   "nbconvert_exporter": "python",
   "pygments_lexer": "ipython3",
   "version": "3.13.1"
  }
 },
 "nbformat": 4,
 "nbformat_minor": 5
}
