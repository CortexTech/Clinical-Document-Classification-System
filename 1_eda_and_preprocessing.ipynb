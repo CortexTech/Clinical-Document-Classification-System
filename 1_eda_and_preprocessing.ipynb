{
 "cells": [
  {
   "cell_type": "code",
   "execution_count": 1,
   "id": "3238d449",
   "metadata": {},
   "outputs": [
    {
     "name": "stdout",
     "output_type": "stream",
     "text": [
      "                                         description  \\\n",
      "0  Complete laminectomy, L4. and facetectomy, L3-...   \n",
      "1  Loculated left effusion, multilobar pneumonia....   \n",
      "2  Abnormal echocardiogram findings and followup....   \n",
      "3  Application of PMT large halo crown and vest. ...   \n",
      "4  MRI Brain & MRI C-T spine: Multiple hemangiobl...   \n",
      "\n",
      "                                       transcription  \\\n",
      "0  PREOPERATIVE DIAGNOSIS:,  Dural tear, postoper...   \n",
      "1  REASON FOR CONSULTATION: , Loculated left effu...   \n",
      "2  REASON FOR CONSULTATION:  ,Abnormal echocardio...   \n",
      "3  PREOPERATIVE DIAGNOSES: , Cervical spondylosis...   \n",
      "4  CC:, Weakness.,HX:, This 30 y/o RHM was in goo...   \n",
      "\n",
      "                 sample_name           medical_specialty  \\\n",
      "0  Laminectomy & Facetectomy                  Orthopedic   \n",
      "1       Multilobar Pneumonia  Cardiovascular / Pulmonary   \n",
      "2    Abnormal Echocardiogram  Cardiovascular / Pulmonary   \n",
      "3      PMT Halo Crown & Vest                  Orthopedic   \n",
      "4    MRI Brain and C-T Spine                   Neurology   \n",
      "\n",
      "                                            keywords  \n",
      "0                                                NaN  \n",
      "1  cardiovascular / pulmonary, neck bruits, nasal...  \n",
      "2                                                NaN  \n",
      "3  orthopedic, cervical spondylosis, anterior cer...  \n",
      "4                                                NaN  \n"
     ]
    }
   ],
   "source": [
    "import pandas as pd\n",
    "\n",
    "df = pd.read_csv('medical_cases_test.csv') #load data\n",
    "print(df.head())"
   ]
  }
 ],
 "metadata": {
  "kernelspec": {
   "display_name": "Python 3",
   "language": "python",
   "name": "python3"
  },
  "language_info": {
   "codemirror_mode": {
    "name": "ipython",
    "version": 3
   },
   "file_extension": ".py",
   "mimetype": "text/x-python",
   "name": "python",
   "nbconvert_exporter": "python",
   "pygments_lexer": "ipython3",
   "version": "3.13.1"
  }
 },
 "nbformat": 4,
 "nbformat_minor": 5
}
