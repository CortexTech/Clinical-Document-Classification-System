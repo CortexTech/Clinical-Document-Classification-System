{
 "cells": [
  {
   "cell_type": "code",
   "execution_count": 1,
   "id": "4db739ff",
   "metadata": {},
   "outputs": [],
   "source": [
    "# Import the AI Platform SDK\n",
    "\n",
    "from google.cloud import aiplatform"
   ]
  },
  {
   "cell_type": "code",
   "execution_count": 2,
   "id": "4f8b70cd",
   "metadata": {},
   "outputs": [
    {
     "name": "stderr",
     "output_type": "stream",
     "text": [
      "C:\\Users\\Roshen Perera\\AppData\\Roaming\\Python\\Python313\\site-packages\\google\\auth\\_default.py:76: UserWarning: Your application has authenticated using end user credentials from Google Cloud SDK without a quota project. You might receive a \"quota exceeded\" or \"API not enabled\" error. See the following page for troubleshooting: https://cloud.google.com/docs/authentication/adc-troubleshooting/user-creds. \n",
      "  warnings.warn(_CLOUD_SDK_CREDENTIALS_WARNING)\n"
     ]
    }
   ],
   "source": [
    "# --- 1. SET YOUR VARIABLES ---\n",
    "# Replace these with your actual project details from the Google Cloud console.\n",
    "PROJECT_ID = \"elevated-cargo-470603-i4\"\n",
    "LOCATION = \"us-central1\"\n",
    "ENDPOINT_ID = \"7883334543921381376\" # The ID of your endpoint\n",
    "\n",
    "\n",
    "# --- 2. INITIALIZE THE CLIENT ---\n",
    "# This sets up the connection to your project.\n",
    "aiplatform.init(project=PROJECT_ID, location=LOCATION)\n",
    "\n",
    "# --- 3. CREATE THE ENDPOINT OBJECT ---\n",
    "# This creates a local Python object that is a remote control for your live endpoint.\n",
    "endpoint = aiplatform.Endpoint(endpoint_name=ENDPOINT_ID)"
   ]
  },
  {
   "cell_type": "code",
   "execution_count": 7,
   "id": "fa9f8575",
   "metadata": {},
   "outputs": [],
   "source": [
    "# Test prediction\n",
    "test_case = \"\"\"\n",
    "\"PREOPERATIVE DIAGNOSIS: Acute cholecystitis. POSTOPERATIVE DIAGNOSIS: Acute cholecystitis. OPERATION: Laparoscopic cholecystectomy. The patient was brought to the operating room and placed in supine position.\"\n",
    "\"\"\""
   ]
  },
  {
   "cell_type": "code",
   "execution_count": 8,
   "id": "92335e95",
   "metadata": {},
   "outputs": [
    {
     "name": "stdout",
     "output_type": "stream",
     "text": [
      "Predicted Specialty: Gastroenterology\n"
     ]
    }
   ],
   "source": [
    "# Make prediction\n",
    "result = endpoint.predict(instances=[test_case])\n",
    "print(f\"Predicted Specialty: {result.predictions[0]}\")"
   ]
  }
 ],
 "metadata": {
  "kernelspec": {
   "display_name": "Python 3",
   "language": "python",
   "name": "python3"
  },
  "language_info": {
   "codemirror_mode": {
    "name": "ipython",
    "version": 3
   },
   "file_extension": ".py",
   "mimetype": "text/x-python",
   "name": "python",
   "nbconvert_exporter": "python",
   "pygments_lexer": "ipython3",
   "version": "3.13.1"
  }
 },
 "nbformat": 4,
 "nbformat_minor": 5
}
