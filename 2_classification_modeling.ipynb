{
 "cells": [
  {
   "cell_type": "code",
   "execution_count": 1,
   "id": "0d6f5821",
   "metadata": {},
   "outputs": [
    {
     "ename": "NameError",
     "evalue": "name 'X_tfidf' is not defined",
     "output_type": "error",
     "traceback": [
      "\u001b[31m---------------------------------------------------------------------------\u001b[39m",
      "\u001b[31mNameError\u001b[39m                                 Traceback (most recent call last)",
      "\u001b[36mCell\u001b[39m\u001b[36m \u001b[39m\u001b[32mIn[1]\u001b[39m\u001b[32m, line 6\u001b[39m\n\u001b[32m      3\u001b[39m \u001b[38;5;28;01mfrom\u001b[39;00m\u001b[38;5;250m \u001b[39m\u001b[34;01msklearn\u001b[39;00m\u001b[34;01m.\u001b[39;00m\u001b[34;01mmetrics\u001b[39;00m\u001b[38;5;250m \u001b[39m\u001b[38;5;28;01mimport\u001b[39;00m classification_report, confusion_matrix\n\u001b[32m      5\u001b[39m \u001b[38;5;66;03m# Features (TF-IDF matrix) and Target (medical_specialty)\u001b[39;00m\n\u001b[32m----> \u001b[39m\u001b[32m6\u001b[39m X = \u001b[43mX_tfidf\u001b[49m\n\u001b[32m      7\u001b[39m y = df[\u001b[33m'\u001b[39m\u001b[33mmedical_specialty\u001b[39m\u001b[33m'\u001b[39m]\n\u001b[32m      9\u001b[39m \u001b[38;5;66;03m# Step 1: Define Softmax Regression model\u001b[39;00m\n",
      "\u001b[31mNameError\u001b[39m: name 'X_tfidf' is not defined"
     ]
    }
   ],
   "source": [
    "from sklearn.linear_model import LogisticRegression\n",
    "from sklearn.model_selection import cross_val_score, GridSearchCV\n",
    "from sklearn.metrics import classification_report, confusion_matrix\n",
    "\n",
    "# Features (TF-IDF matrix) and Target (medical_specialty)\n",
    "X = X_tfidf\n",
    "y = df['medical_specialty']\n",
    "\n",
    "# Step 1: Define Softmax Regression model\n",
    "softmax_clf = LogisticRegression(\n",
    "    multi_class='multinomial',  # Softmax mode\n",
    "    solver='lbfgs',             # good for multinomial\n",
    "    max_iter=1000,              # increase iterations for convergence\n",
    "    random_state=42\n",
    ")\n",
    "\n",
    "# Step 2: Cross-validation for robust performance\n",
    "cv_scores = cross_val_score(softmax_clf, X, y, cv=5, scoring='accuracy')\n",
    "print(\"Cross-validation accuracy scores:\", cv_scores)\n",
    "print(\"Mean CV accuracy:\", cv_scores.mean())\n",
    "\n",
    "# Step 3: Hyperparameter tuning with GridSearchCV\n",
    "param_grid = {\n",
    "    'C': [0.01, 0.1, 1, 10],          # regularization strength\n",
    "    'solver': ['lbfgs', 'saga']       # solvers for multinomial\n",
    "}\n",
    "\n",
    "grid_search = GridSearchCV(\n",
    "    LogisticRegression(multi_class='multinomial', max_iter=1000, random_state=42),\n",
    "    param_grid,\n",
    "    cv=3,\n",
    "    scoring='accuracy',\n",
    "    n_jobs=-1\n",
    ")\n",
    "\n",
    "grid_search.fit(X, y)\n",
    "print(\"Best parameters:\", grid_search.best_params_)\n",
    "print(\"Best CV score:\", grid_search.best_score_)\n",
    "\n",
    "# Step 4: Train final model with best parameters\n",
    "best_softmax = grid_search.best_estimator_\n",
    "best_softmax.fit(X, y)\n",
    "\n",
    "# Step 5: Evaluate on training data (or holdout test if available)\n",
    "y_pred = best_softmax.predict(X)\n",
    "print(classification_report(y, y_pred))\n"
   ]
  }
 ],
 "metadata": {
  "kernelspec": {
   "display_name": "Python 3",
   "language": "python",
   "name": "python3"
  },
  "language_info": {
   "codemirror_mode": {
    "name": "ipython",
    "version": 3
   },
   "file_extension": ".py",
   "mimetype": "text/x-python",
   "name": "python",
   "nbconvert_exporter": "python",
   "pygments_lexer": "ipython3",
   "version": "3.13.1"
  }
 },
 "nbformat": 4,
 "nbformat_minor": 5
}
